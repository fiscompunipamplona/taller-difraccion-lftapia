{
 "cells": [
  {
   "cell_type": "markdown",
   "metadata": {},
   "source": [
    "# Espectro de difracción"
   ]
  },
  {
   "cell_type": "code",
   "execution_count": 58,
   "metadata": {},
   "outputs": [
    {
     "name": "stdout",
     "output_type": "stream",
     "text": [
      "m=0\n",
      "\n",
      "El valor de la integral por Simpson es I = 1.0014277284357307\n",
      "El valor de la integral por Simpson es I = 0.766859188734574\n",
      "El valor de la integral por Simpson es I = 0.22609173851143222\n",
      "El valor de la integral por Simpson es I = -0.25736071130835236\n",
      "El valor de la integral por Simpson es I = -0.39428543116970516\n",
      "El valor de la integral por Simpson es I = -0.17486647441249709\n",
      "El valor de la integral por Simpson es I = 0.15316951860162806\n",
      "El valor de la integral por Simpson es I = 0.3025513939766861\n",
      "El valor de la integral por Simpson es I = 0.17424167756286252\n",
      "El valor de la integral por Simpson es I = -0.08763330963731908\n",
      "El valor de la integral por Simpson es I = -0.2433125074753186\n",
      "El valor de la integral por Simpson es I = -0.1688122347918131\n",
      "El valor de la integral por Simpson es I = 0.049865165699690656\n",
      "El valor de la integral por Simpson es I = 0.2091448345530956\n",
      "El valor de la integral por Simpson es I = 0.173558147726423\n",
      "El valor de la integral por Simpson es I = -0.011519321344793007\n",
      "El valor de la integral por Simpson es I = -0.1723303881326035\n",
      "El valor de la integral por Simpson es I = -0.16788279803012662\n",
      "El valor de la integral por Simpson es I = -0.012274474512195448\n",
      "El valor de la integral por Simpson es I = 0.1467738625573814\n",
      "\n",
      "m=1\n",
      "\n",
      "El valor de la integral por Simpson es I = 0.00031129112300821846\n",
      "El valor de la integral por Simpson es I = 0.43994790501434844\n",
      "El valor de la integral por Simpson es I = 0.5765412934762505\n",
      "El valor de la integral por Simpson es I = 0.3391501845283034\n",
      "El valor de la integral por Simpson es I = -0.06557586649924832\n",
      "El valor de la integral por Simpson es I = -0.3269454291908528\n",
      "El valor de la integral por Simpson es I = -0.2762001538347552\n",
      "El valor de la integral por Simpson es I = -0.00448847888875355\n",
      "El valor de la integral por Simpson es I = 0.2346897524495405\n",
      "El valor de la integral por Simpson es I = 0.24550442896544622\n",
      "El valor de la integral por Simpson es I = 0.04393824522357163\n",
      "El valor de la integral por Simpson es I = -0.17620547717916987\n",
      "El valor de la integral por Simpson es I = -0.22307915569983428\n",
      "El valor de la integral por Simpson es I = -0.07036641142383682\n",
      "El valor de la integral por Simpson es I = 0.13302498802060744\n",
      "El valor de la integral por Simpson es I = 0.20480928295911466\n",
      "El valor de la integral por Simpson es I = 0.09046779496685922\n",
      "El valor de la integral por Simpson es I = -0.09721929223104522\n",
      "El valor de la integral por Simpson es I = -0.1874320384870701\n",
      "El valor de la integral por Simpson es I = -0.10528595372924199\n",
      "\n",
      "m=2\n",
      "\n",
      "El valor de la integral por Simpson es I = 0.0024235424859852025\n",
      "El valor de la integral por Simpson es I = 0.11712118900262003\n",
      "El valor de la integral por Simpson es I = 0.3547940904759876\n",
      "El valor de la integral por Simpson es I = 0.48801749652863624\n",
      "El valor de la integral por Simpson es I = 0.36636644993158773\n",
      "El valor de la integral por Simpson es I = 0.04929488660446897\n",
      "El valor de la integral por Simpson es I = -0.2398139843131717\n",
      "El valor de la integral por Simpson es I = -0.29842878498977665\n",
      "El valor de la integral por Simpson es I = -0.11040202023580968\n",
      "El valor de la integral por Simpson es I = 0.14704579946578772\n",
      "El valor de la integral por Simpson es I = 0.2567717342337225\n",
      "El valor de la integral por Simpson es I = 0.14151236931692965\n",
      "El valor de la integral por Simpson es I = -0.08203801622367611\n",
      "El valor de la integral por Simpson es I = -0.21469369440874778\n",
      "El valor de la integral por Simpson es I = -0.1492489423742039\n",
      "El valor de la integral por Simpson es I = 0.043786157582476615\n",
      "El valor de la integral por Simpson es I = 0.18790572626383378\n",
      "El valor de la integral por Simpson es I = 0.15978549610043535\n",
      "El valor de la integral por Simpson es I = -0.006356475229016972\n",
      "El valor de la integral por Simpson es I = -0.15722784116410157\n"
     ]
    },
    {
     "data": {
      "image/png": "[encoded data removed]",
      "text/plain": [
       "<Figure size 432x288 with 1 Axes>"
      ]
     },
     "metadata": {
      "needs_background": "light"
     },
     "output_type": "display_data"
    }
   ],
   "source": [
    "from numpy import*\n",
    "from math import*\n",
    "from pylab import*\n",
    "AA=[]\n",
    "BB=[]\n",
    "CC=[]\n",
    "DD=[]\n",
    "EE=[]\n",
    "FF=[]\n",
    "a=0\n",
    "b=pi\n",
    "N=1000\n",
    "h=(b-a)/N\n",
    "print(\"m=0\\n\")\n",
    "for x in range(0,20):\n",
    "    a=0\n",
    "    b=pi\n",
    "    it=0\n",
    "    i=0\n",
    "    m=0\n",
    "    I=0\n",
    "    fa=cos(m*a-x*sin(a))\n",
    "    fb=cos(m*b-x*sin(b))\n",
    "    for k in range(1,N//2+1):\n",
    "        the=a+(2*k-1)\n",
    "        y=(1/pi)*cos((m*the)-(x*sin(the)))\n",
    "        it+=y\n",
    "    #print(it)    \n",
    "    for ks in range(1,((N//2)-1)+1):\n",
    "        thea=a+2*ks\n",
    "        z=(1/pi)*(cos((m*thea)-(x*sin(thea))))\n",
    "        i+=z\n",
    "    #print(i)    \n",
    "    \n",
    "    It=(h/3)*(fa+fb+4*it+2*i)\n",
    "    I+=It\n",
    "    AA.append(x)\n",
    "    BB.append(It)\n",
    "    print('El valor de la integral por Simpson es I =',I)\n",
    "\n",
    "    plot(AA,BB,\"g\")\n",
    "    \n",
    "print(\"\\nm=1\\n\")\n",
    "\n",
    "\n",
    "for x in range(0,20):\n",
    "    a=0\n",
    "    b=pi\n",
    "    it=0\n",
    "    i=0\n",
    "    m=1\n",
    "    I=0\n",
    "    fa=cos(m*a-x*sin(a))\n",
    "    fb=cos(m*b-x*sin(b))\n",
    "    for k in range(1,N//2+1):\n",
    "        the=a+(2*k-1)\n",
    "        y=(1/pi)*cos((m*the)-(x*sin(the)))\n",
    "        it+=y\n",
    "    #print(it)    \n",
    "    for ks in range(1,((N//2)-1)+1):\n",
    "        thea=a+2*ks\n",
    "        z=(1/pi)*(cos((m*thea)-(x*sin(thea))))\n",
    "        i+=z\n",
    "    #print(i)    \n",
    "    \n",
    "    It=(h/3)*(fa+fb+4*it+2*i)\n",
    "    I+=It\n",
    "    CC.append(x)\n",
    "    DD.append(It)\n",
    "    print('El valor de la integral por Simpson es I =',I)\n",
    "\n",
    "    plot(CC,DD,\"b\")\n",
    "\n",
    "print(\"\\nm=2\\n\")\n",
    "\n",
    "for x in range(0,20):\n",
    "    a=0\n",
    "    b=pi\n",
    "    it=0\n",
    "    i=0\n",
    "    m=2\n",
    "    I=0\n",
    "    fa=cos(m*a-x*sin(a))\n",
    "    fb=cos(m*b-x*sin(b))\n",
    "    for k in range(1,N//2+1):\n",
    "        the=a+(2*k-1)\n",
    "        y=(1/pi)*cos((m*the)-(x*sin(the)))\n",
    "        it+=y\n",
    "    #print(it)    \n",
    "    for ks in range(1,((N//2)-1)+1):\n",
    "        thea=a+2*ks\n",
    "        z=(1/pi)*(cos((m*thea)-(x*sin(thea))))\n",
    "        i+=z\n",
    "    #print(i)    \n",
    "    \n",
    "    It=(h/3)*(fa+fb+4*it+2*i)\n",
    "    I+=It\n",
    "    EE.append(x)\n",
    "    FF.append(It)\n",
    "    print('El valor de la integral por Simpson es I =',I)\n",
    "\n",
    "    plot(EE,FF,\"r\")\n"
   ]
  },
  {
   "cell_type": "markdown",
   "metadata": {},
   "source": [
    "# Espectro  de Difracción Para $J_{1}$"
   ]
  },
  {
   "cell_type": "markdown",
   "metadata": {},
   "source": [
    "$I(r)=(\\frac{J_{1}(kr)}{kr})^{2}$ ; $k=\\frac{2\\pi}{\\lambda}$ ; $\\lambda=500 nm$"
   ]
  },
  {
   "cell_type": "code",
   "execution_count": 52,
   "metadata": {},
   "outputs": [
    {
     "data": {
      "text/plain": [
       "<matplotlib.image.AxesImage at 0x7f34df562cc0>"
      ]
     },
     "execution_count": 52,
     "metadata": {},
     "output_type": "execute_result"
    },
    {
     "data": {
      "image/png": "[encoded data removed]",
      "text/plain": [
       "<Figure size 432x288 with 1 Axes>"
      ]
     },
     "metadata": {
      "needs_background": "light"
     },
     "output_type": "display_data"
    }
   ],
   "source": [
    "from numpy import cos,sin,pi\n",
    "from pylab import *\n",
    "\n",
    "N = 1000\n",
    "a = 0\n",
    "b = pi\n",
    "h = (b-a)/N\n",
    "\n",
    "def J(m,x):\n",
    "\n",
    "    def f(teta):\n",
    "        return cos(m*teta - x*sin(teta))\n",
    "    \n",
    "    Re = f(a) + f(b) + 4*f(b-h)\n",
    "    for k in range(1,N//2):\n",
    "        Re += 4*f(a + (2*k-1)*h) + 2*f(a+2*k*h)\n",
    "        \n",
    "    I = h/3*Re/pi\n",
    "    \n",
    "    return I\n",
    "x,y = mgrid[-1:1:100j,-1:1:100j]\n",
    "r = sqrt(x**2 + y**2)\n",
    "l = 0.5\n",
    "k = 2*pi/l\n",
    "\n",
    "I = (J(1,r*k)/(k*r))**2\n",
    "gray()\n",
    "imshow(I,vmax=0.1/10,extent=(-1,1,-1,1))"
   ]
  },
  {
   "cell_type": "code",
   "execution_count": null,
   "metadata": {},
   "outputs": [],
   "source": []
  }
 ],
 "metadata": {
  "kernelspec": {
   "display_name": "Python 3",
   "language": "python",
   "name": "python3"
  },
  "language_info": {
   "codemirror_mode": {
    "name": "ipython",
    "version": 3
   },
   "file_extension": ".py",
   "mimetype": "text/x-python",
   "name": "python",
   "nbconvert_exporter": "python",
   "pygments_lexer": "ipython3",
   "version": "3.5.2"
  }
 },
 "nbformat": 4,
 "nbformat_minor": 2
}
